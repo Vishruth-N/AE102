{
  "nbformat": 4,
  "nbformat_minor": 0,
  "metadata": {
    "colab": {
      "name": "AE102 Assignment-Vishruth N.ipynb",
      "provenance": [],
      "collapsed_sections": [],
      "authorship_tag": "ABX9TyPfCwKSL0YY1udOOTk2DV8A",
      "include_colab_link": true
    },
    "kernelspec": {
      "name": "python3",
      "display_name": "Python 3"
    },
    "language_info": {
      "name": "python"
    },
    "widgets": {
      "application/vnd.jupyter.widget-state+json": {
        "048a698fc30e432589ff7172920a7cfb": {
          "model_module": "@jupyter-widgets/controls",
          "model_name": "VBoxModel",
          "state": {
            "_view_name": "VBoxView",
            "_dom_classes": [
              "widget-interact"
            ],
            "_model_name": "VBoxModel",
            "_view_module": "@jupyter-widgets/controls",
            "_model_module_version": "1.5.0",
            "_view_count": null,
            "_view_module_version": "1.5.0",
            "box_style": "",
            "layout": "IPY_MODEL_5860f7cf5e1641fea355df073f09cfce",
            "_model_module": "@jupyter-widgets/controls",
            "children": [
              "IPY_MODEL_f8e90db0760641648d5384901de21a7e",
              "IPY_MODEL_cb44d0f8245242699459705323224110"
            ]
          }
        },
        "5860f7cf5e1641fea355df073f09cfce": {
          "model_module": "@jupyter-widgets/base",
          "model_name": "LayoutModel",
          "state": {
            "_view_name": "LayoutView",
            "grid_template_rows": null,
            "right": null,
            "justify_content": null,
            "_view_module": "@jupyter-widgets/base",
            "overflow": null,
            "_model_module_version": "1.2.0",
            "_view_count": null,
            "flex_flow": null,
            "width": null,
            "min_width": null,
            "border": null,
            "align_items": null,
            "bottom": null,
            "_model_module": "@jupyter-widgets/base",
            "top": null,
            "grid_column": null,
            "overflow_y": null,
            "overflow_x": null,
            "grid_auto_flow": null,
            "grid_area": null,
            "grid_template_columns": null,
            "flex": null,
            "_model_name": "LayoutModel",
            "justify_items": null,
            "grid_row": null,
            "max_height": null,
            "align_content": null,
            "visibility": null,
            "align_self": null,
            "height": null,
            "min_height": null,
            "padding": null,
            "grid_auto_rows": null,
            "grid_gap": null,
            "max_width": null,
            "order": null,
            "_view_module_version": "1.2.0",
            "grid_template_areas": null,
            "object_position": null,
            "object_fit": null,
            "grid_auto_columns": null,
            "margin": null,
            "display": null,
            "left": null
          }
        },
        "f8e90db0760641648d5384901de21a7e": {
          "model_module": "@jupyter-widgets/controls",
          "model_name": "FloatSliderModel",
          "state": {
            "_view_name": "FloatSliderView",
            "style": "IPY_MODEL_c355cfe3887d48aa8de3de9c0205e53c",
            "_dom_classes": [],
            "description": "p",
            "step": 0.1,
            "_model_name": "FloatSliderModel",
            "orientation": "horizontal",
            "max": 0.9,
            "_view_module": "@jupyter-widgets/controls",
            "_model_module_version": "1.5.0",
            "value": 0.5,
            "_view_count": null,
            "disabled": false,
            "_view_module_version": "1.5.0",
            "min": 0.1,
            "continuous_update": true,
            "readout_format": ".2f",
            "description_tooltip": null,
            "readout": true,
            "_model_module": "@jupyter-widgets/controls",
            "layout": "IPY_MODEL_dc5bfb2d75bb45d98c5c7e85cacc8ff4"
          }
        },
        "cb44d0f8245242699459705323224110": {
          "model_module": "@jupyter-widgets/output",
          "model_name": "OutputModel",
          "state": {
            "_view_name": "OutputView",
            "msg_id": "",
            "_dom_classes": [],
            "_model_name": "OutputModel",
            "outputs": [
              {
                "output_type": "display_data",
                "metadata": {
                  "tags": [],
                  "needs_background": "light"
                },
                "image/png": "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\n",
                "text/plain": "<Figure size 432x288 with 1 Axes>"
              }
            ],
            "_view_module": "@jupyter-widgets/output",
            "_model_module_version": "1.0.0",
            "_view_count": null,
            "_view_module_version": "1.0.0",
            "layout": "IPY_MODEL_6fdea9d68c0042d78ca8fbaa2afc92a4",
            "_model_module": "@jupyter-widgets/output"
          }
        },
        "c355cfe3887d48aa8de3de9c0205e53c": {
          "model_module": "@jupyter-widgets/controls",
          "model_name": "SliderStyleModel",
          "state": {
            "_view_name": "StyleView",
            "handle_color": null,
            "_model_name": "SliderStyleModel",
            "description_width": "",
            "_view_module": "@jupyter-widgets/base",
            "_model_module_version": "1.5.0",
            "_view_count": null,
            "_view_module_version": "1.2.0",
            "_model_module": "@jupyter-widgets/controls"
          }
        },
        "dc5bfb2d75bb45d98c5c7e85cacc8ff4": {
          "model_module": "@jupyter-widgets/base",
          "model_name": "LayoutModel",
          "state": {
            "_view_name": "LayoutView",
            "grid_template_rows": null,
            "right": null,
            "justify_content": null,
            "_view_module": "@jupyter-widgets/base",
            "overflow": null,
            "_model_module_version": "1.2.0",
            "_view_count": null,
            "flex_flow": null,
            "width": null,
            "min_width": null,
            "border": null,
            "align_items": null,
            "bottom": null,
            "_model_module": "@jupyter-widgets/base",
            "top": null,
            "grid_column": null,
            "overflow_y": null,
            "overflow_x": null,
            "grid_auto_flow": null,
            "grid_area": null,
            "grid_template_columns": null,
            "flex": null,
            "_model_name": "LayoutModel",
            "justify_items": null,
            "grid_row": null,
            "max_height": null,
            "align_content": null,
            "visibility": null,
            "align_self": null,
            "height": null,
            "min_height": null,
            "padding": null,
            "grid_auto_rows": null,
            "grid_gap": null,
            "max_width": null,
            "order": null,
            "_view_module_version": "1.2.0",
            "grid_template_areas": null,
            "object_position": null,
            "object_fit": null,
            "grid_auto_columns": null,
            "margin": null,
            "display": null,
            "left": null
          }
        },
        "6fdea9d68c0042d78ca8fbaa2afc92a4": {
          "model_module": "@jupyter-widgets/base",
          "model_name": "LayoutModel",
          "state": {
            "_view_name": "LayoutView",
            "grid_template_rows": null,
            "right": null,
            "justify_content": null,
            "_view_module": "@jupyter-widgets/base",
            "overflow": null,
            "_model_module_version": "1.2.0",
            "_view_count": null,
            "flex_flow": null,
            "width": null,
            "min_width": null,
            "border": null,
            "align_items": null,
            "bottom": null,
            "_model_module": "@jupyter-widgets/base",
            "top": null,
            "grid_column": null,
            "overflow_y": null,
            "overflow_x": null,
            "grid_auto_flow": null,
            "grid_area": null,
            "grid_template_columns": null,
            "flex": null,
            "_model_name": "LayoutModel",
            "justify_items": null,
            "grid_row": null,
            "max_height": null,
            "align_content": null,
            "visibility": null,
            "align_self": null,
            "height": null,
            "min_height": null,
            "padding": null,
            "grid_auto_rows": null,
            "grid_gap": null,
            "max_width": null,
            "order": null,
            "_view_module_version": "1.2.0",
            "grid_template_areas": null,
            "object_position": null,
            "object_fit": null,
            "grid_auto_columns": null,
            "margin": null,
            "display": null,
            "left": null
          }
        },
        "cbfc7143dc58433a98fa1144f1f8e0cd": {
          "model_module": "@jupyter-widgets/controls",
          "model_name": "VBoxModel",
          "state": {
            "_view_name": "VBoxView",
            "_dom_classes": [
              "widget-interact"
            ],
            "_model_name": "VBoxModel",
            "_view_module": "@jupyter-widgets/controls",
            "_model_module_version": "1.5.0",
            "_view_count": null,
            "_view_module_version": "1.5.0",
            "box_style": "",
            "layout": "IPY_MODEL_6267d1919633495d9cb1148b10c9e38f",
            "_model_module": "@jupyter-widgets/controls",
            "children": [
              "IPY_MODEL_c0fd413203044ff0b557f124be49065d",
              "IPY_MODEL_ab2e40d4b35f404db686fb21f1430ed5"
            ]
          }
        },
        "6267d1919633495d9cb1148b10c9e38f": {
          "model_module": "@jupyter-widgets/base",
          "model_name": "LayoutModel",
          "state": {
            "_view_name": "LayoutView",
            "grid_template_rows": null,
            "right": null,
            "justify_content": null,
            "_view_module": "@jupyter-widgets/base",
            "overflow": null,
            "_model_module_version": "1.2.0",
            "_view_count": null,
            "flex_flow": null,
            "width": null,
            "min_width": null,
            "border": null,
            "align_items": null,
            "bottom": null,
            "_model_module": "@jupyter-widgets/base",
            "top": null,
            "grid_column": null,
            "overflow_y": null,
            "overflow_x": null,
            "grid_auto_flow": null,
            "grid_area": null,
            "grid_template_columns": null,
            "flex": null,
            "_model_name": "LayoutModel",
            "justify_items": null,
            "grid_row": null,
            "max_height": null,
            "align_content": null,
            "visibility": null,
            "align_self": null,
            "height": null,
            "min_height": null,
            "padding": null,
            "grid_auto_rows": null,
            "grid_gap": null,
            "max_width": null,
            "order": null,
            "_view_module_version": "1.2.0",
            "grid_template_areas": null,
            "object_position": null,
            "object_fit": null,
            "grid_auto_columns": null,
            "margin": null,
            "display": null,
            "left": null
          }
        },
        "c0fd413203044ff0b557f124be49065d": {
          "model_module": "@jupyter-widgets/controls",
          "model_name": "FloatSliderModel",
          "state": {
            "_view_name": "FloatSliderView",
            "style": "IPY_MODEL_827cf75a62d24f2792a1ed7e010765db",
            "_dom_classes": [],
            "description": "p",
            "step": 0.1,
            "_model_name": "FloatSliderModel",
            "orientation": "horizontal",
            "max": 0.9,
            "_view_module": "@jupyter-widgets/controls",
            "_model_module_version": "1.5.0",
            "value": 0.5,
            "_view_count": null,
            "disabled": false,
            "_view_module_version": "1.5.0",
            "min": 0.1,
            "continuous_update": true,
            "readout_format": ".2f",
            "description_tooltip": null,
            "readout": true,
            "_model_module": "@jupyter-widgets/controls",
            "layout": "IPY_MODEL_0af0c2566710465ea7314bccd2952f1d"
          }
        },
        "ab2e40d4b35f404db686fb21f1430ed5": {
          "model_module": "@jupyter-widgets/output",
          "model_name": "OutputModel",
          "state": {
            "_view_name": "OutputView",
            "msg_id": "",
            "_dom_classes": [],
            "_model_name": "OutputModel",
            "outputs": [
              {
                "output_type": "display_data",
                "metadata": {
                  "tags": [],
                  "needs_background": "light"
                },
                "image/png": "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\n",
                "text/plain": "<Figure size 432x288 with 1 Axes>"
              }
            ],
            "_view_module": "@jupyter-widgets/output",
            "_model_module_version": "1.0.0",
            "_view_count": null,
            "_view_module_version": "1.0.0",
            "layout": "IPY_MODEL_72202c4c5fee41acae6897211e16ee11",
            "_model_module": "@jupyter-widgets/output"
          }
        },
        "827cf75a62d24f2792a1ed7e010765db": {
          "model_module": "@jupyter-widgets/controls",
          "model_name": "SliderStyleModel",
          "state": {
            "_view_name": "StyleView",
            "handle_color": null,
            "_model_name": "SliderStyleModel",
            "description_width": "",
            "_view_module": "@jupyter-widgets/base",
            "_model_module_version": "1.5.0",
            "_view_count": null,
            "_view_module_version": "1.2.0",
            "_model_module": "@jupyter-widgets/controls"
          }
        },
        "0af0c2566710465ea7314bccd2952f1d": {
          "model_module": "@jupyter-widgets/base",
          "model_name": "LayoutModel",
          "state": {
            "_view_name": "LayoutView",
            "grid_template_rows": null,
            "right": null,
            "justify_content": null,
            "_view_module": "@jupyter-widgets/base",
            "overflow": null,
            "_model_module_version": "1.2.0",
            "_view_count": null,
            "flex_flow": null,
            "width": null,
            "min_width": null,
            "border": null,
            "align_items": null,
            "bottom": null,
            "_model_module": "@jupyter-widgets/base",
            "top": null,
            "grid_column": null,
            "overflow_y": null,
            "overflow_x": null,
            "grid_auto_flow": null,
            "grid_area": null,
            "grid_template_columns": null,
            "flex": null,
            "_model_name": "LayoutModel",
            "justify_items": null,
            "grid_row": null,
            "max_height": null,
            "align_content": null,
            "visibility": null,
            "align_self": null,
            "height": null,
            "min_height": null,
            "padding": null,
            "grid_auto_rows": null,
            "grid_gap": null,
            "max_width": null,
            "order": null,
            "_view_module_version": "1.2.0",
            "grid_template_areas": null,
            "object_position": null,
            "object_fit": null,
            "grid_auto_columns": null,
            "margin": null,
            "display": null,
            "left": null
          }
        },
        "72202c4c5fee41acae6897211e16ee11": {
          "model_module": "@jupyter-widgets/base",
          "model_name": "LayoutModel",
          "state": {
            "_view_name": "LayoutView",
            "grid_template_rows": null,
            "right": null,
            "justify_content": null,
            "_view_module": "@jupyter-widgets/base",
            "overflow": null,
            "_model_module_version": "1.2.0",
            "_view_count": null,
            "flex_flow": null,
            "width": null,
            "min_width": null,
            "border": null,
            "align_items": null,
            "bottom": null,
            "_model_module": "@jupyter-widgets/base",
            "top": null,
            "grid_column": null,
            "overflow_y": null,
            "overflow_x": null,
            "grid_auto_flow": null,
            "grid_area": null,
            "grid_template_columns": null,
            "flex": null,
            "_model_name": "LayoutModel",
            "justify_items": null,
            "grid_row": null,
            "max_height": null,
            "align_content": null,
            "visibility": null,
            "align_self": null,
            "height": null,
            "min_height": null,
            "padding": null,
            "grid_auto_rows": null,
            "grid_gap": null,
            "max_width": null,
            "order": null,
            "_view_module_version": "1.2.0",
            "grid_template_areas": null,
            "object_position": null,
            "object_fit": null,
            "grid_auto_columns": null,
            "margin": null,
            "display": null,
            "left": null
          }
        },
        "eef14e9d4a4642f19cda8f9ee831c716": {
          "model_module": "@jupyter-widgets/controls",
          "model_name": "VBoxModel",
          "state": {
            "_view_name": "VBoxView",
            "_dom_classes": [
              "widget-interact"
            ],
            "_model_name": "VBoxModel",
            "_view_module": "@jupyter-widgets/controls",
            "_model_module_version": "1.5.0",
            "_view_count": null,
            "_view_module_version": "1.5.0",
            "box_style": "",
            "layout": "IPY_MODEL_be027e4472cf4f1e807d4047a82a54c6",
            "_model_module": "@jupyter-widgets/controls",
            "children": [
              "IPY_MODEL_98a0ac17967a4f6aae2593cdbeaa21cc",
              "IPY_MODEL_f8f912bc02e84710aa13b192f70e8977"
            ]
          }
        },
        "be027e4472cf4f1e807d4047a82a54c6": {
          "model_module": "@jupyter-widgets/base",
          "model_name": "LayoutModel",
          "state": {
            "_view_name": "LayoutView",
            "grid_template_rows": null,
            "right": null,
            "justify_content": null,
            "_view_module": "@jupyter-widgets/base",
            "overflow": null,
            "_model_module_version": "1.2.0",
            "_view_count": null,
            "flex_flow": null,
            "width": null,
            "min_width": null,
            "border": null,
            "align_items": null,
            "bottom": null,
            "_model_module": "@jupyter-widgets/base",
            "top": null,
            "grid_column": null,
            "overflow_y": null,
            "overflow_x": null,
            "grid_auto_flow": null,
            "grid_area": null,
            "grid_template_columns": null,
            "flex": null,
            "_model_name": "LayoutModel",
            "justify_items": null,
            "grid_row": null,
            "max_height": null,
            "align_content": null,
            "visibility": null,
            "align_self": null,
            "height": null,
            "min_height": null,
            "padding": null,
            "grid_auto_rows": null,
            "grid_gap": null,
            "max_width": null,
            "order": null,
            "_view_module_version": "1.2.0",
            "grid_template_areas": null,
            "object_position": null,
            "object_fit": null,
            "grid_auto_columns": null,
            "margin": null,
            "display": null,
            "left": null
          }
        },
        "98a0ac17967a4f6aae2593cdbeaa21cc": {
          "model_module": "@jupyter-widgets/controls",
          "model_name": "FloatSliderModel",
          "state": {
            "_view_name": "FloatSliderView",
            "style": "IPY_MODEL_b53f31e900894f7180030509456d007e",
            "_dom_classes": [],
            "description": "p",
            "step": 0.1,
            "_model_name": "FloatSliderModel",
            "orientation": "horizontal",
            "max": 0.9,
            "_view_module": "@jupyter-widgets/controls",
            "_model_module_version": "1.5.0",
            "value": 0.5,
            "_view_count": null,
            "disabled": false,
            "_view_module_version": "1.5.0",
            "min": 0.1,
            "continuous_update": true,
            "readout_format": ".2f",
            "description_tooltip": null,
            "readout": true,
            "_model_module": "@jupyter-widgets/controls",
            "layout": "IPY_MODEL_8f0ee96cccad42d08f590f48aff12670"
          }
        },
        "f8f912bc02e84710aa13b192f70e8977": {
          "model_module": "@jupyter-widgets/output",
          "model_name": "OutputModel",
          "state": {
            "_view_name": "OutputView",
            "msg_id": "",
            "_dom_classes": [],
            "_model_name": "OutputModel",
            "outputs": [
              {
                "output_type": "display_data",
                "metadata": {
                  "tags": [],
                  "needs_background": "light"
                },
                "image/png": "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\n",
                "text/plain": "<Figure size 432x288 with 1 Axes>"
              }
            ],
            "_view_module": "@jupyter-widgets/output",
            "_model_module_version": "1.0.0",
            "_view_count": null,
            "_view_module_version": "1.0.0",
            "layout": "IPY_MODEL_943f355a05db4cf782e5b542065e0f05",
            "_model_module": "@jupyter-widgets/output"
          }
        },
        "b53f31e900894f7180030509456d007e": {
          "model_module": "@jupyter-widgets/controls",
          "model_name": "SliderStyleModel",
          "state": {
            "_view_name": "StyleView",
            "handle_color": null,
            "_model_name": "SliderStyleModel",
            "description_width": "",
            "_view_module": "@jupyter-widgets/base",
            "_model_module_version": "1.5.0",
            "_view_count": null,
            "_view_module_version": "1.2.0",
            "_model_module": "@jupyter-widgets/controls"
          }
        },
        "8f0ee96cccad42d08f590f48aff12670": {
          "model_module": "@jupyter-widgets/base",
          "model_name": "LayoutModel",
          "state": {
            "_view_name": "LayoutView",
            "grid_template_rows": null,
            "right": null,
            "justify_content": null,
            "_view_module": "@jupyter-widgets/base",
            "overflow": null,
            "_model_module_version": "1.2.0",
            "_view_count": null,
            "flex_flow": null,
            "width": null,
            "min_width": null,
            "border": null,
            "align_items": null,
            "bottom": null,
            "_model_module": "@jupyter-widgets/base",
            "top": null,
            "grid_column": null,
            "overflow_y": null,
            "overflow_x": null,
            "grid_auto_flow": null,
            "grid_area": null,
            "grid_template_columns": null,
            "flex": null,
            "_model_name": "LayoutModel",
            "justify_items": null,
            "grid_row": null,
            "max_height": null,
            "align_content": null,
            "visibility": null,
            "align_self": null,
            "height": null,
            "min_height": null,
            "padding": null,
            "grid_auto_rows": null,
            "grid_gap": null,
            "max_width": null,
            "order": null,
            "_view_module_version": "1.2.0",
            "grid_template_areas": null,
            "object_position": null,
            "object_fit": null,
            "grid_auto_columns": null,
            "margin": null,
            "display": null,
            "left": null
          }
        },
        "943f355a05db4cf782e5b542065e0f05": {
          "model_module": "@jupyter-widgets/base",
          "model_name": "LayoutModel",
          "state": {
            "_view_name": "LayoutView",
            "grid_template_rows": null,
            "right": null,
            "justify_content": null,
            "_view_module": "@jupyter-widgets/base",
            "overflow": null,
            "_model_module_version": "1.2.0",
            "_view_count": null,
            "flex_flow": null,
            "width": null,
            "min_width": null,
            "border": null,
            "align_items": null,
            "bottom": null,
            "_model_module": "@jupyter-widgets/base",
            "top": null,
            "grid_column": null,
            "overflow_y": null,
            "overflow_x": null,
            "grid_auto_flow": null,
            "grid_area": null,
            "grid_template_columns": null,
            "flex": null,
            "_model_name": "LayoutModel",
            "justify_items": null,
            "grid_row": null,
            "max_height": null,
            "align_content": null,
            "visibility": null,
            "align_self": null,
            "height": null,
            "min_height": null,
            "padding": null,
            "grid_auto_rows": null,
            "grid_gap": null,
            "max_width": null,
            "order": null,
            "_view_module_version": "1.2.0",
            "grid_template_areas": null,
            "object_position": null,
            "object_fit": null,
            "grid_auto_columns": null,
            "margin": null,
            "display": null,
            "left": null
          }
        },
        "b98b7304087d4c14b91aaa528f402903": {
          "model_module": "@jupyter-widgets/controls",
          "model_name": "VBoxModel",
          "state": {
            "_view_name": "VBoxView",
            "_dom_classes": [
              "widget-interact"
            ],
            "_model_name": "VBoxModel",
            "_view_module": "@jupyter-widgets/controls",
            "_model_module_version": "1.5.0",
            "_view_count": null,
            "_view_module_version": "1.5.0",
            "box_style": "",
            "layout": "IPY_MODEL_54039cc6acba4b9ca0cb492a63ac569e",
            "_model_module": "@jupyter-widgets/controls",
            "children": [
              "IPY_MODEL_dfb5c9513a30427a8e7db4508ca3f90f",
              "IPY_MODEL_88ff954b03024957a03e9d07830ce302"
            ]
          }
        },
        "54039cc6acba4b9ca0cb492a63ac569e": {
          "model_module": "@jupyter-widgets/base",
          "model_name": "LayoutModel",
          "state": {
            "_view_name": "LayoutView",
            "grid_template_rows": null,
            "right": null,
            "justify_content": null,
            "_view_module": "@jupyter-widgets/base",
            "overflow": null,
            "_model_module_version": "1.2.0",
            "_view_count": null,
            "flex_flow": null,
            "width": null,
            "min_width": null,
            "border": null,
            "align_items": null,
            "bottom": null,
            "_model_module": "@jupyter-widgets/base",
            "top": null,
            "grid_column": null,
            "overflow_y": null,
            "overflow_x": null,
            "grid_auto_flow": null,
            "grid_area": null,
            "grid_template_columns": null,
            "flex": null,
            "_model_name": "LayoutModel",
            "justify_items": null,
            "grid_row": null,
            "max_height": null,
            "align_content": null,
            "visibility": null,
            "align_self": null,
            "height": null,
            "min_height": null,
            "padding": null,
            "grid_auto_rows": null,
            "grid_gap": null,
            "max_width": null,
            "order": null,
            "_view_module_version": "1.2.0",
            "grid_template_areas": null,
            "object_position": null,
            "object_fit": null,
            "grid_auto_columns": null,
            "margin": null,
            "display": null,
            "left": null
          }
        },
        "dfb5c9513a30427a8e7db4508ca3f90f": {
          "model_module": "@jupyter-widgets/controls",
          "model_name": "FloatSliderModel",
          "state": {
            "_view_name": "FloatSliderView",
            "style": "IPY_MODEL_5e1b960061544876bd5378ef0872aaa3",
            "_dom_classes": [],
            "description": "p",
            "step": 0.1,
            "_model_name": "FloatSliderModel",
            "orientation": "horizontal",
            "max": 0.9,
            "_view_module": "@jupyter-widgets/controls",
            "_model_module_version": "1.5.0",
            "value": 0.5,
            "_view_count": null,
            "disabled": false,
            "_view_module_version": "1.5.0",
            "min": 0.1,
            "continuous_update": true,
            "readout_format": ".2f",
            "description_tooltip": null,
            "readout": true,
            "_model_module": "@jupyter-widgets/controls",
            "layout": "IPY_MODEL_7441dfc91e7a4c2985a74f27da3024f1"
          }
        },
        "88ff954b03024957a03e9d07830ce302": {
          "model_module": "@jupyter-widgets/output",
          "model_name": "OutputModel",
          "state": {
            "_view_name": "OutputView",
            "msg_id": "",
            "_dom_classes": [],
            "_model_name": "OutputModel",
            "outputs": [
              {
                "output_type": "display_data",
                "metadata": {
                  "tags": [],
                  "needs_background": "light"
                },
                "image/png": "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\n",
                "text/plain": "<Figure size 432x288 with 1 Axes>"
              }
            ],
            "_view_module": "@jupyter-widgets/output",
            "_model_module_version": "1.0.0",
            "_view_count": null,
            "_view_module_version": "1.0.0",
            "layout": "IPY_MODEL_14ab2767118241918565acbe3888d75b",
            "_model_module": "@jupyter-widgets/output"
          }
        },
        "5e1b960061544876bd5378ef0872aaa3": {
          "model_module": "@jupyter-widgets/controls",
          "model_name": "SliderStyleModel",
          "state": {
            "_view_name": "StyleView",
            "handle_color": null,
            "_model_name": "SliderStyleModel",
            "description_width": "",
            "_view_module": "@jupyter-widgets/base",
            "_model_module_version": "1.5.0",
            "_view_count": null,
            "_view_module_version": "1.2.0",
            "_model_module": "@jupyter-widgets/controls"
          }
        },
        "7441dfc91e7a4c2985a74f27da3024f1": {
          "model_module": "@jupyter-widgets/base",
          "model_name": "LayoutModel",
          "state": {
            "_view_name": "LayoutView",
            "grid_template_rows": null,
            "right": null,
            "justify_content": null,
            "_view_module": "@jupyter-widgets/base",
            "overflow": null,
            "_model_module_version": "1.2.0",
            "_view_count": null,
            "flex_flow": null,
            "width": null,
            "min_width": null,
            "border": null,
            "align_items": null,
            "bottom": null,
            "_model_module": "@jupyter-widgets/base",
            "top": null,
            "grid_column": null,
            "overflow_y": null,
            "overflow_x": null,
            "grid_auto_flow": null,
            "grid_area": null,
            "grid_template_columns": null,
            "flex": null,
            "_model_name": "LayoutModel",
            "justify_items": null,
            "grid_row": null,
            "max_height": null,
            "align_content": null,
            "visibility": null,
            "align_self": null,
            "height": null,
            "min_height": null,
            "padding": null,
            "grid_auto_rows": null,
            "grid_gap": null,
            "max_width": null,
            "order": null,
            "_view_module_version": "1.2.0",
            "grid_template_areas": null,
            "object_position": null,
            "object_fit": null,
            "grid_auto_columns": null,
            "margin": null,
            "display": null,
            "left": null
          }
        },
        "14ab2767118241918565acbe3888d75b": {
          "model_module": "@jupyter-widgets/base",
          "model_name": "LayoutModel",
          "state": {
            "_view_name": "LayoutView",
            "grid_template_rows": null,
            "right": null,
            "justify_content": null,
            "_view_module": "@jupyter-widgets/base",
            "overflow": null,
            "_model_module_version": "1.2.0",
            "_view_count": null,
            "flex_flow": null,
            "width": null,
            "min_width": null,
            "border": null,
            "align_items": null,
            "bottom": null,
            "_model_module": "@jupyter-widgets/base",
            "top": null,
            "grid_column": null,
            "overflow_y": null,
            "overflow_x": null,
            "grid_auto_flow": null,
            "grid_area": null,
            "grid_template_columns": null,
            "flex": null,
            "_model_name": "LayoutModel",
            "justify_items": null,
            "grid_row": null,
            "max_height": null,
            "align_content": null,
            "visibility": null,
            "align_self": null,
            "height": null,
            "min_height": null,
            "padding": null,
            "grid_auto_rows": null,
            "grid_gap": null,
            "max_width": null,
            "order": null,
            "_view_module_version": "1.2.0",
            "grid_template_areas": null,
            "object_position": null,
            "object_fit": null,
            "grid_auto_columns": null,
            "margin": null,
            "display": null,
            "left": null
          }
        }
      }
    }
  },
  "cells": [
    {
      "cell_type": "markdown",
      "metadata": {
        "id": "view-in-github",
        "colab_type": "text"
      },
      "source": [
        "<a href=\"https://colab.research.google.com/github/Vishruth-N/AE102/blob/main/AE102_Assignment_Vishruth_N.ipynb\" target=\"_parent\"><img src=\"https://colab.research.google.com/assets/colab-badge.svg\" alt=\"Open In Colab\"/></a>"
      ]
    },
    {
      "cell_type": "markdown",
      "metadata": {
        "id": "QDvThLi27rke"
      },
      "source": [
        "# AE 102 Assignment\n",
        "### Name: Vishruth N\n",
        "### Roll Number: 200010088\n",
        "---\n",
        "\n",
        "\n",
        "\n"
      ]
    },
    {
      "cell_type": "code",
      "metadata": {
        "id": "4_mfvO0NRsVP"
      },
      "source": [
        "import numpy as np\n",
        "import matplotlib.pyplot as plt\n",
        "from scipy.stats import norm\n",
        "import matplotlib.mlab as mlab"
      ],
      "execution_count": 166,
      "outputs": []
    },
    {
      "cell_type": "markdown",
      "metadata": {
        "id": "J1_UNdSY-Uzn"
      },
      "source": [
        "# Question 1"
      ]
    },
    {
      "cell_type": "markdown",
      "metadata": {
        "id": "jL_IYcpe-d-O"
      },
      "source": [
        "### Part (i)"
      ]
    },
    {
      "cell_type": "markdown",
      "metadata": {
        "id": "10lcpcEiR-4x"
      },
      "source": [
        "```xbar``` is the sample mean $\\bar{x}$"
      ]
    },
    {
      "cell_type": "markdown",
      "metadata": {
        "id": "VUY5CHflTDk9"
      },
      "source": [
        "True mean $\\mu$ and true standard deviation $\\sigma$ for a uniform distribution($f(x) = 1$)\n",
        "over the interval [0, 1] is:\n",
        "\n",
        "* Mean($\\mu$)= ```mu``` = $\\frac{1}{2}$\n",
        "* Standard Deviation($\\sigma$) = ```sig``` = $\\sqrt\\frac{1}{12}$"
      ]
    },
    {
      "cell_type": "code",
      "metadata": {
        "id": "1TdcvPstVFlb"
      },
      "source": [
        "def computez(xbar,n): #Function to compute Z\n",
        "  mu = 0.5\n",
        "  sig = np.sqrt(1/12)\n",
        "  z = (np.sqrt(n)*(xbar - mu))/sig\n",
        "  return z"
      ],
      "execution_count": 167,
      "outputs": []
    },
    {
      "cell_type": "markdown",
      "metadata": {
        "id": "0q-oVJBqlStb"
      },
      "source": [
        "Computing and plotting the Histogram of $z$ for various values of $N$"
      ]
    },
    {
      "cell_type": "code",
      "metadata": {
        "colab": {
          "base_uri": "https://localhost:8080/",
          "height": 638
        },
        "id": "-t9GwklMlYb1",
        "outputId": "927b25c1-fc7e-47ae-ae68-32ce4e44b694"
      },
      "source": [
        "m = 1000\n",
        "def zhist(n): # Histogram generator function\n",
        "  z_hist = []\n",
        "  for i in range(m):\n",
        "    xbar = np.mean(np.random.random(n)) #returns mean of uniform discrete random variable\n",
        "    z_hist.append(computez(xbar,n))  \n",
        "  return z_hist\n",
        "\n",
        "def hisplot(i,n,bins): #Function to plot the histograms    \n",
        "  plt.subplot(2, 2, i)\n",
        "  zh = np.array(zhist(n))\n",
        "  plt.hist(zh, density = True, bins = bins);\n",
        "  x = np.linspace(-3,3)\n",
        "  plt.plot(x, norm.pdf(x, loc = zh.mean(), scale = zh.std()))\n",
        "  plt.xlabel('Z for N = {}'.format(n))\n",
        "\n",
        "#Plotting the Histograms\n",
        "plt.figure(figsize=(15,10)) \n",
        "hisplot(1,5,10)\n",
        "hisplot(2,20,10)\n",
        "hisplot(3,50,15)\n",
        "hisplot(4,100,15)\n",
        "\n",
        "\n",
        "#Spacing\n",
        "plt.subplots_adjust(left=0.1,bottom=0.1,right=0.9,top=0.9,wspace=0.4,hspace=0.4)"
      ],
      "execution_count": 168,
      "outputs": [
        {
          "output_type": "display_data",
          "data": {
            "image/png": "[encoded data removed]",
            "text/plain": [
              "<Figure size 1080x720 with 4 Axes>"
            ]
          },
          "metadata": {
            "tags": [],
            "needs_background": "light"
          }
        }
      ]
    },
    {
      "cell_type": "markdown",
      "metadata": {
        "id": "3U1b75oY_NsI"
      },
      "source": [
        "### Conclusion:\n",
        "From the above plots, it can be concluded that the Histograms resemble the Gaussian and remain similar to each other for $N$ = $5,20,50,100$"
      ]
    },
    {
      "cell_type": "markdown",
      "metadata": {
        "id": "DqgPUiU0-sKb"
      },
      "source": [
        "### Part (ii)"
      ]
    },
    {
      "cell_type": "markdown",
      "metadata": {
        "id": "z7qBZjv4ev6x"
      },
      "source": [
        "We know that,\n",
        " For a Binomial Distribution:\n",
        " * Mean($\\mu$) = $np$\n",
        " * Standard Deviation($\\sigma$) = $\\sqrt{np(1-p)}$\n",
        " \n",
        "\n",
        "---\n",
        "The formula for calculating $z$ thus becomes: $(\\sqrt\\frac{N}{100p(1-p)})$ $\\cdot$ $(\\frac{\\bar{x}}{100} - p)$\n"
      ]
    },
    {
      "cell_type": "markdown",
      "metadata": {
        "id": "hPXWjD9nKnyr"
      },
      "source": [
        "#### Function to Create a Binomial Random Variable and generate $z$ "
      ]
    },
    {
      "cell_type": "markdown",
      "metadata": {
        "id": "LtPEtLr7REXb"
      },
      "source": [
        ""
      ]
    },
    {
      "cell_type": "code",
      "metadata": {
        "id": "KZDI5dfqAUqc"
      },
      "source": [
        "import scipy\n",
        "def binz(p,N): # Function to generate a Binomial distribution\n",
        "  z = []\n",
        "  for i in range(1000):\n",
        "    bin_rv = scipy.stats.binom.rvs(100,p,size = N) #returns a binomial discrete random variable\n",
        "    xbar = np.mean(bin_rv)\n",
        "    z.append(np.sqrt(N/(100*p*(1-p)))*((xbar/100)-p))\n",
        "  return z  "
      ],
      "execution_count": 169,
      "outputs": []
    },
    {
      "cell_type": "code",
      "metadata": {
        "id": "OrDrZVnuUO12",
        "colab": {
          "base_uri": "https://localhost:8080/",
          "height": 741,
          "referenced_widgets": [
            "048a698fc30e432589ff7172920a7cfb",
            "5860f7cf5e1641fea355df073f09cfce",
            "f8e90db0760641648d5384901de21a7e",
            "cb44d0f8245242699459705323224110",
            "c355cfe3887d48aa8de3de9c0205e53c",
            "dc5bfb2d75bb45d98c5c7e85cacc8ff4",
            "6fdea9d68c0042d78ca8fbaa2afc92a4",
            "cbfc7143dc58433a98fa1144f1f8e0cd",
            "6267d1919633495d9cb1148b10c9e38f",
            "c0fd413203044ff0b557f124be49065d",
            "ab2e40d4b35f404db686fb21f1430ed5",
            "827cf75a62d24f2792a1ed7e010765db",
            "0af0c2566710465ea7314bccd2952f1d",
            "72202c4c5fee41acae6897211e16ee11",
            "eef14e9d4a4642f19cda8f9ee831c716",
            "be027e4472cf4f1e807d4047a82a54c6",
            "98a0ac17967a4f6aae2593cdbeaa21cc",
            "f8f912bc02e84710aa13b192f70e8977",
            "b53f31e900894f7180030509456d007e",
            "8f0ee96cccad42d08f590f48aff12670",
            "943f355a05db4cf782e5b542065e0f05",
            "b98b7304087d4c14b91aaa528f402903",
            "54039cc6acba4b9ca0cb492a63ac569e",
            "dfb5c9513a30427a8e7db4508ca3f90f",
            "88ff954b03024957a03e9d07830ce302",
            "5e1b960061544876bd5378ef0872aaa3",
            "7441dfc91e7a4c2985a74f27da3024f1",
            "14ab2767118241918565acbe3888d75b"
          ]
        },
        "outputId": "dbfdf956-0d4f-420f-e2f7-924af99f23a2"
      },
      "source": [
        "import ipywidgets as wi\n",
        "def binhisplot(i,n,bins,p=0.5):    #Function to plot the histograms \n",
        "  plt.subplot(2, 2, i)\n",
        "  zh = np.array(binz(p,n))\n",
        "  plt.hist(zh, density = True, bins = bins);\n",
        "  plt.xlabel('Z for N = {}'.format(n))\n",
        "  plt.ylabel('frequency')\n",
        "  x = np.linspace(-0.03,0.03)\n",
        "  plt.plot(x, norm.pdf(x, loc = zh.mean(), scale = zh.std()))\n",
        "  \n",
        "#Plotting the Histograms\n",
        "wi.interact(binhisplot,p = (0.1,0.9,0.1), i = wi.fixed(1), n = wi.fixed(5), bins = wi.fixed(10))\n",
        "wi.interact(binhisplot,p = (0.1,0.9,0.1), i = wi.fixed(2), n = wi.fixed(20), bins = wi.fixed(10))\n",
        "wi.interact(binhisplot,p = (0.1,0.9,0.1), i = wi.fixed(3), n = wi.fixed(50), bins = wi.fixed(15))\n",
        "wi.interact(binhisplot,p = (0.1,0.9,0.1), i = wi.fixed(4), n = wi.fixed(100), bins = wi.fixed(15))\n",
        "\n",
        "#Spacing\n",
        "plt.subplots_adjust(left=0.1,bottom=0.1,right=0.9,top=0.9,wspace=0.4,hspace=0.4)\n"
      ],
      "execution_count": 170,
      "outputs": [
        {
          "output_type": "display_data",
          "data": {
            "application/vnd.jupyter.widget-view+json": {
              "model_id": "048a698fc30e432589ff7172920a7cfb",
              "version_minor": 0,
              "version_major": 2
            },
            "text/plain": [
              "interactive(children=(FloatSlider(value=0.5, description='p', max=0.9, min=0.1), Output()), _dom_classes=('wid…"
            ]
          },
          "metadata": {
            "tags": []
          }
        },
        {
          "output_type": "display_data",
          "data": {
            "application/vnd.jupyter.widget-view+json": {
              "model_id": "cbfc7143dc58433a98fa1144f1f8e0cd",
              "version_minor": 0,
              "version_major": 2
            },
            "text/plain": [
              "interactive(children=(FloatSlider(value=0.5, description='p', max=0.9, min=0.1), Output()), _dom_classes=('wid…"
            ]
          },
          "metadata": {
            "tags": []
          }
        },
        {
          "output_type": "display_data",
          "data": {
            "application/vnd.jupyter.widget-view+json": {
              "model_id": "eef14e9d4a4642f19cda8f9ee831c716",
              "version_minor": 0,
              "version_major": 2
            },
            "text/plain": [
              "interactive(children=(FloatSlider(value=0.5, description='p', max=0.9, min=0.1), Output()), _dom_classes=('wid…"
            ]
          },
          "metadata": {
            "tags": []
          }
        },
        {
          "output_type": "display_data",
          "data": {
            "application/vnd.jupyter.widget-view+json": {
              "model_id": "b98b7304087d4c14b91aaa528f402903",
              "version_minor": 0,
              "version_major": 2
            },
            "text/plain": [
              "interactive(children=(FloatSlider(value=0.5, description='p', max=0.9, min=0.1), Output()), _dom_classes=('wid…"
            ]
          },
          "metadata": {
            "tags": []
          }
        },
        {
          "output_type": "display_data",
          "data": {
            "text/plain": [
              "<Figure size 432x288 with 0 Axes>"
            ]
          },
          "metadata": {
            "tags": []
          }
        }
      ]
    },
    {
      "cell_type": "markdown",
      "metadata": {
        "id": "hGf69rHLjGMI"
      },
      "source": [
        "The above plots show that the Histograms fairly resemble the Gaussian/The normal distribution."
      ]
    },
    {
      "cell_type": "markdown",
      "metadata": {
        "id": "J_amGxUjeiiN"
      },
      "source": [
        "## Part (iii)"
      ]
    },
    {
      "cell_type": "markdown",
      "metadata": {
        "id": "4GG9L_Jji7rb"
      },
      "source": [
        "Let us take the Poisson's distribution and perform the same experiment as above."
      ]
    },
    {
      "cell_type": "markdown",
      "metadata": {
        "id": "d6P9zuQGmgTO"
      },
      "source": [
        "We know that,For Poisson's Distribution:\n",
        "* Mean($\\mu$) = $\\lambda$\n",
        "* Standard Deviation($\\sigma$) = $\\sqrt{\\lambda}$"
      ]
    },
    {
      "cell_type": "markdown",
      "metadata": {
        "id": "tizrCxfvm6X0"
      },
      "source": [
        "Therefore,\n",
        "$z$ = $(\\sqrt\\frac{N}{\\lambda})$$\\cdot$$(\\bar{x} - \\lambda)$"
      ]
    },
    {
      "cell_type": "code",
      "metadata": {
        "id": "gFSqe6PejXRT"
      },
      "source": [
        "from scipy.stats import poisson"
      ],
      "execution_count": 171,
      "outputs": []
    },
    {
      "cell_type": "code",
      "metadata": {
        "id": "ljhaicrljkf0"
      },
      "source": [
        "def poiz(lam,N): #Function to generate a Poisson's Distribution\n",
        "  z = []\n",
        "  for i in range(1000):\n",
        "    pois_rv = scipy.stats.poisson.rvs(100,lam,size = N)\n",
        "    xbar = np.mean(pois_rv)\n",
        "    z.append(np.sqrt(N/lam)*(xbar-lam))\n",
        "  return z  "
      ],
      "execution_count": 172,
      "outputs": []
    },
    {
      "cell_type": "markdown",
      "metadata": {
        "id": "bR1u5wD2q7Fb"
      },
      "source": [
        "Now Let's plot the Histograms"
      ]
    },
    {
      "cell_type": "code",
      "metadata": {
        "colab": {
          "base_uri": "https://localhost:8080/",
          "height": 606
        },
        "id": "i4ROISTdoNm6",
        "outputId": "f39de050-0100-4804-b438-4a6af7cd36b5"
      },
      "source": [
        "def poihisplot(i,n,bins,lam=100,lin=0):    #function to plot the histograms\n",
        "  plt.subplot(2, 2, i)\n",
        "  zh = np.array(poiz(lam,n))\n",
        "  plt.hist(zh, density = True, bins = bins);\n",
        "  plt.xlabel('Z for N = {}'.format(n))\n",
        "  x = np.linspace(lin-3.5,lin+3.5)\n",
        "  plt.plot(x, norm.pdf(x, loc = zh.mean(), scale = zh.std()))\n",
        "\n",
        "#Plotting the Histograms\n",
        "plt.figure(figsize=(15,10))  \n",
        "poihisplot(1,5,10,100,22.5)\n",
        "poihisplot(2,20,10,100,44.5)\n",
        "poihisplot(3,50,10,100,70.5)\n",
        "poihisplot(4,100,10,100,100.5)"
      ],
      "execution_count": 173,
      "outputs": [
        {
          "output_type": "display_data",
          "data": {
            "image/png": "[encoded data removed]",
            "text/plain": [
              "<Figure size 1080x720 with 4 Axes>"
            ]
          },
          "metadata": {
            "tags": [],
            "needs_background": "light"
          }
        }
      ]
    },
    {
      "cell_type": "markdown",
      "metadata": {
        "id": "AbI6cM-7qec3"
      },
      "source": [
        "From the above plots, Now we can conclude that these histograms also resemble the Gaussian/Normal Distribution hence Verifying the \"Central Limit Theorem\"!!"
      ]
    },
    {
      "cell_type": "markdown",
      "metadata": {
        "id": "H8MvH8-2Dihq"
      },
      "source": [
        "---"
      ]
    },
    {
      "cell_type": "markdown",
      "metadata": {
        "id": "ft885EjWrAxb"
      },
      "source": [
        "# Question 2"
      ]
    },
    {
      "cell_type": "markdown",
      "metadata": {
        "id": "HAlG9FAq5cpn"
      },
      "source": [
        "## Part(i)"
      ]
    },
    {
      "cell_type": "markdown",
      "metadata": {
        "id": "MWeL7s1aulkA"
      },
      "source": [
        "Prime Number  | No. of favourable outcomes\n",
        "-------------------|------------------\n",
        "2    | 1\n",
        "3    | 2\n",
        "5    | 4\n",
        "7    | 6\n",
        "11   | 10\n",
        "13   | 12\n",
        "17   | 12\n",
        "19   | 12\n",
        "23   | 10\n",
        "29   | 4\n",
        "31   | 2\n",
        "\n",
        "\n"
      ]
    },
    {
      "cell_type": "markdown",
      "metadata": {
        "id": "4YFItboMy__E"
      },
      "source": [
        "### Total no.of favourable outcomes: $75$ and Total outcomes: $240$.\n",
        "---\n",
        "Therefore Probability = $\\frac{75}{240}$ = $0.3125$"
      ]
    },
    {
      "cell_type": "markdown",
      "metadata": {
        "id": "ri02wTBx5YgI"
      },
      "source": [
        "## Part (ii)"
      ]
    },
    {
      "cell_type": "markdown",
      "metadata": {
        "id": "faIdRe_-0mRx"
      },
      "source": [
        "Function to determine whether a number is prime:"
      ]
    },
    {
      "cell_type": "code",
      "metadata": {
        "id": "3dgaLeCi0sUO"
      },
      "source": [
        "def primecheck(n): #Function to check whether a number is prime\n",
        "  if n >= 2:\n",
        "    for y in range(2,n):\n",
        "      if not ( n % y ):\n",
        "        return False\n",
        "  else:\n",
        "    return False\n",
        "  return True  \n",
        "  "
      ],
      "execution_count": 174,
      "outputs": []
    },
    {
      "cell_type": "markdown",
      "metadata": {
        "id": "s1LWZefy3OUX"
      },
      "source": [
        "Computing the probability:"
      ]
    },
    {
      "cell_type": "code",
      "metadata": {
        "id": "mH5852OJ1ims"
      },
      "source": [
        "def prob(dode,icos): #Function that computes the probability that the sum of a roll is prime\n",
        "  sum = dode+icos\n",
        "  n_primesum = 0\n",
        "  for i in range(sum.size):\n",
        "    if primecheck(sum[i]):\n",
        "      n_primesum += 1\n",
        "  return n_primesum/sum.size    "
      ],
      "execution_count": 175,
      "outputs": []
    },
    {
      "cell_type": "code",
      "metadata": {
        "colab": {
          "base_uri": "https://localhost:8080/"
        },
        "id": "64bBynyx4caZ",
        "outputId": "7d443dd5-4715-4104-d57d-de4f158cf2af"
      },
      "source": [
        "print(\"The probability for n = 1000 throws is\",prob(np.random.randint(low = 1, high = 13, size = 1000),np.random.randint(low = 1, high = 21, size = 1000)))\n",
        "print(\"The probability for n = 10000 throws is\",prob(np.random.randint(low = 1, high = 13, size = 10000),np.random.randint(low = 1, high = 21, size = 10000)))\n",
        "print(\"The probability for n = 100000 throws is\",prob(np.random.randint(low = 1, high = 13, size = 100000),np.random.randint(low = 1, high = 21, size = 100000)))"
      ],
      "execution_count": 176,
      "outputs": [
        {
          "output_type": "stream",
          "text": [
            "The probability for n = 1000 throws is 0.313\n",
            "The probability for n = 10000 throws is 0.3124\n",
            "The probability for n = 100000 throws is 0.31277\n"
          ],
          "name": "stdout"
        }
      ]
    },
    {
      "cell_type": "markdown",
      "metadata": {
        "id": "AJFEvZN_5rqe"
      },
      "source": [
        "As we can see from the above output, the computed value gets closer and closer to the true value(i.e 0.3125) as the number of throws increases"
      ]
    },
    {
      "cell_type": "markdown",
      "metadata": {
        "id": "XMCQPr0N6ALr"
      },
      "source": [
        "## Part (iii)"
      ]
    },
    {
      "cell_type": "code",
      "metadata": {
        "id": "Re13Da2M-MRL"
      },
      "source": [
        "#THIS CELL TAKES 23s TO EXECUTE\n",
        "nt = 10000\n",
        "ne = 1000\n",
        "probabilities = []\n",
        "for i in range(ne):\n",
        "  probabilities.append(prob(np.random.randint(low = 1, high = 13, size = nt),np.random.randint(low = 1, high = 21, size = nt))) #Build the histogram of probabilities"
      ],
      "execution_count": 177,
      "outputs": []
    },
    {
      "cell_type": "markdown",
      "metadata": {
        "id": "PTYF_K7Wt5mS"
      },
      "source": [
        "Now, Let's plot the Histogram of Probabilities"
      ]
    },
    {
      "cell_type": "code",
      "metadata": {
        "colab": {
          "base_uri": "https://localhost:8080/",
          "height": 279
        },
        "id": "GgiCR0tSqFq3",
        "outputId": "34ae9ac6-6b9d-4a14-8a61-cad3fed4846a"
      },
      "source": [
        "plt.hist(probabilities, density = True);\n",
        "x = np.linspace(0.3,0.33)\n",
        "plt.plot(x, norm.pdf(x, loc = np.array(probabilities).mean(), scale = np.array(probabilities).std()));\n",
        "plt.xlabel(\"Mean\")\n",
        "plt.ylabel(\"Frequency\");"
      ],
      "execution_count": 178,
      "outputs": [
        {
          "output_type": "display_data",
          "data": {
            "image/png": "[encoded data removed]",
            "text/plain": [
              "<Figure size 432x288 with 1 Axes>"
            ]
          },
          "metadata": {
            "tags": [],
            "needs_background": "light"
          }
        }
      ]
    },
    {
      "cell_type": "markdown",
      "metadata": {
        "id": "VYS5M7i7tDlu"
      },
      "source": [
        "Seeing the above plot, we can conclude that it indeed centers around the true mean(i.e = $0.3125$)."
      ]
    },
    {
      "cell_type": "markdown",
      "metadata": {
        "id": "FF80Om14Btf4"
      },
      "source": [
        "## Part (iv)"
      ]
    },
    {
      "cell_type": "markdown",
      "metadata": {
        "id": "z6TLWZGQAcs1"
      },
      "source": [
        "Computing the mean($\\mu$) and standard deviation($\\sigma$) of the above distribution:"
      ]
    },
    {
      "cell_type": "code",
      "metadata": {
        "colab": {
          "base_uri": "https://localhost:8080/"
        },
        "id": "2SZM7UEMCBmL",
        "outputId": "470c4ac7-008e-461d-e210-529244100c56"
      },
      "source": [
        "mean = np.array(probabilities).mean()\n",
        "stdev = np.array(probabilities).std()\n",
        "print(\"The Mean of the distribution is {} and the standard deviation is {}\".format(mean,stdev))"
      ],
      "execution_count": 179,
      "outputs": [
        {
          "output_type": "stream",
          "text": [
            "The Mean of the distribution is 0.31250350000000005 and the standard deviation is 0.0046791171977201\n"
          ],
          "name": "stdout"
        }
      ]
    },
    {
      "cell_type": "markdown",
      "metadata": {
        "id": "TrFaMWPGDQ58"
      },
      "source": [
        "## Part(v)"
      ]
    },
    {
      "cell_type": "markdown",
      "metadata": {
        "id": "vn7nmSqCugBX"
      },
      "source": [
        "### Function that returns the Sampling mean and Sampling Variance"
      ]
    },
    {
      "cell_type": "code",
      "metadata": {
        "id": "F8itF8J9H1Kf"
      },
      "source": [
        "def smeanvar(nes = 100, nt = 10000): #Function that returns the Sampling mean and Sampling Variance as an list of size 2\n",
        "  s_probabilities = []\n",
        "  for i in range(nes):\n",
        "    s_probabilities.append(prob(np.random.randint(low = 1, high = 13, size = nt),np.random.randint(low = 1, high = 21, size = nt)))\n",
        "  s_mean = np.array(s_probabilities).mean()\n",
        "  s_var = np.array(s_probabilities).var()\n",
        "  return [s_mean,s_var]\n"
      ],
      "execution_count": 180,
      "outputs": []
    },
    {
      "cell_type": "code",
      "metadata": {
        "id": "g8hNOcUGJghG"
      },
      "source": [
        "#THIS CELL TAKES 4 MINUTES TO EXECUTE\n",
        "meanvar = []\n",
        "for i in range(100):\n",
        "  meanvar.append(smeanvar()) #generates list of values of sampling mean and variance "
      ],
      "execution_count": 181,
      "outputs": []
    },
    {
      "cell_type": "code",
      "metadata": {
        "colab": {
          "base_uri": "https://localhost:8080/",
          "height": 623
        },
        "id": "GNZ5AL2fT2ce",
        "outputId": "92d5d6d3-f021-4b59-a7da-76c454194d9f"
      },
      "source": [
        "meanvar = np.array(meanvar)\n",
        "plt.figure(figsize=(20,10))  \n",
        "plt.subplot(1,2,1)\n",
        "plt.hist(meanvar[:,0], density = True);\n",
        "x1 = np.linspace(0.3110,0.3140)\n",
        "plt.plot(x1, norm.pdf(x1, loc = np.array(meanvar[:,0]).mean(), scale = np.array(meanvar[:,0]).std()));\n",
        "plt.xlabel(\"Mean\")\n",
        "plt.ylabel(\"Frequency\")\n",
        "\n",
        "plt.subplot(1,2,2)\n",
        "plt.hist(meanvar[:,1]); #The range is x axis is (1.5,3)* 1e-5 , which implies that The sample Variance is extremely small.\n",
        "plt.xlabel(\"Variance\")\n",
        "plt.ylabel(\"Frequency\")"
      ],
      "execution_count": 182,
      "outputs": [
        {
          "output_type": "execute_result",
          "data": {
            "text/plain": [
              "Text(0, 0.5, 'Frequency')"
            ]
          },
          "metadata": {
            "tags": []
          },
          "execution_count": 182
        },
        {
          "output_type": "display_data",
          "data": {
            "image/png": "[encoded data removed]",
            "text/plain": [
              "<Figure size 1440x720 with 2 Axes>"
            ]
          },
          "metadata": {
            "tags": [],
            "needs_background": "light"
          }
        }
      ]
    },
    {
      "cell_type": "markdown",
      "metadata": {
        "id": "goYCQPATlJgv"
      },
      "source": [
        "## Part (vi)"
      ]
    },
    {
      "cell_type": "markdown",
      "metadata": {
        "id": "8DHNpVh2k9Zp"
      },
      "source": [
        "Computing the The Mean of the 'sampling distribution of the sample mean' and the standard deviation "
      ]
    },
    {
      "cell_type": "code",
      "metadata": {
        "colab": {
          "base_uri": "https://localhost:8080/"
        },
        "id": "Jf9aJD4Yinzv",
        "outputId": "caa0ae31-52e8-4982-d218-1e594056d459"
      },
      "source": [
        "meanvar = np.array(meanvar)\n",
        "mean_sampling = np.array(meanvar[:,0]).mean()\n",
        "std_sampling = np.array(meanvar[:,0]).std()\n",
        "print(\"The Mean of the sampling distribution of the sample mean is {} and the standard deviation is {}\".format(mean_sampling,std_sampling))"
      ],
      "execution_count": 183,
      "outputs": [
        {
          "output_type": "stream",
          "text": [
            "The Mean of the sampling distribution of the sample mean is 0.31249273 and the standard deviation is 0.00045382776149107394\n"
          ],
          "name": "stdout"
        }
      ]
    },
    {
      "cell_type": "markdown",
      "metadata": {
        "id": "1WnQTg40lccP"
      },
      "source": [
        "### This verifies our Hypothesis that the mean = $0.3125$."
      ]
    },
    {
      "cell_type": "markdown",
      "metadata": {
        "id": "VGtJh6nQlm4V"
      },
      "source": [
        "## Part (vii)"
      ]
    },
    {
      "cell_type": "code",
      "metadata": {
        "colab": {
          "base_uri": "https://localhost:8080/",
          "height": 623
        },
        "id": "yRvPL_-Ropr5",
        "outputId": "60a5cdcf-57f1-437d-c715-b5646c46a3e2"
      },
      "source": [
        "meanvar = np.array(meanvar)\n",
        "plt.figure(figsize=(20,10))  \n",
        "plt.hist(meanvar[:,0], density = True,bins = 10);\n",
        "x1 = np.linspace(0.3110,0.3140)\n",
        "plt.plot(x1, norm.pdf(x1, loc = np.array(meanvar[:,0]).mean(), scale = np.array(meanvar[:,0]).std()));\n",
        "plt.xlabel(\"Sampling Mean\")\n",
        "plt.ylabel(\"Frequency\")"
      ],
      "execution_count": 184,
      "outputs": [
        {
          "output_type": "execute_result",
          "data": {
            "text/plain": [
              "Text(0, 0.5, 'Frequency')"
            ]
          },
          "metadata": {
            "tags": []
          },
          "execution_count": 184
        },
        {
          "output_type": "display_data",
          "data": {
            "image/png": "[encoded data removed]",
            "text/plain": [
              "<Figure size 1440x720 with 1 Axes>"
            ]
          },
          "metadata": {
            "tags": [],
            "needs_background": "light"
          }
        }
      ]
    },
    {
      "cell_type": "markdown",
      "metadata": {
        "id": "J7zhxkM1o4Yc"
      },
      "source": [
        "##The ablove plot successfully Verifies our hypothesis that the sampling distribution of the sample mean should approach a Gaussian for large number of samples according to the \"Central Limit Theorem\""
      ]
    },
    {
      "cell_type": "markdown",
      "metadata": {
        "id": "FgjiDqCkxrBG"
      },
      "source": [
        "### Part (viii)"
      ]
    },
    {
      "cell_type": "code",
      "metadata": {
        "colab": {
          "base_uri": "https://localhost:8080/",
          "height": 606
        },
        "id": "pvPwwT4LxxQ6",
        "outputId": "35142bf8-c6c3-40ca-8f6f-1520128ba41d"
      },
      "source": [
        "plt.figure(figsize=(20,10))  \n",
        "plt.hist(meanvar[:,1], density  = True); #The range is x axis is (1.5,3)* 1e-5 , which implies that The sample Variance is extremely small.\n",
        "x2 = np.linspace(0.000014,0.00003)\n",
        "plt.plot(x2, norm.pdf(x2, loc = np.array(meanvar[:,1]).mean(), scale = np.array(meanvar[:,1]).std()));\n",
        "plt.xlabel(\"Sampling Variance\")\n",
        "plt.ylabel(\"Frequency\");"
      ],
      "execution_count": 185,
      "outputs": [
        {
          "output_type": "display_data",
          "data": {
            "image/png": "[encoded data removed]",
            "text/plain": [
              "<Figure size 1440x720 with 1 Axes>"
            ]
          },
          "metadata": {
            "tags": [],
            "needs_background": "light"
          }
        }
      ]
    },
    {
      "cell_type": "markdown",
      "metadata": {
        "id": "auRizsWK7Qnd"
      },
      "source": [
        "### From the above plot, it can be verified that, even the Sampling distribution of the sample variance also resembles a Gaussian and hence CLT is verified in this Case too!"
      ]
    },
    {
      "cell_type": "markdown",
      "metadata": {
        "id": "UvhqbwJd7l6a"
      },
      "source": [
        "# Thank You"
      ]
    }
  ]
}